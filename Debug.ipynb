{
 "cells": [
  {
   "cell_type": "code",
   "execution_count": 1,
   "id": "4dbbf555",
   "metadata": {},
   "outputs": [],
   "source": [
    "# !pip install neuralforecast datasetsforecast"
   ]
  },
  {
   "cell_type": "code",
   "execution_count": 1,
   "id": "bf1cc4f6",
   "metadata": {},
   "outputs": [],
   "source": [
    "# pip install horovod==0.26.1"
   ]
  },
  {
   "cell_type": "code",
   "execution_count": 1,
   "id": "69b7c099",
   "metadata": {},
   "outputs": [],
   "source": [
    "%load_ext autoreload\n",
    "%autoreload 2"
   ]
  },
  {
   "cell_type": "code",
   "execution_count": 1,
   "id": "33357cc3",
   "metadata": {},
   "outputs": [],
   "source": [
    "from typing import List\n",
    "from datasetsforecast.long_horizon import LongHorizon\n",
    "import pandas as pd\n",
    "import numpy as np\n",
    "import torch\n",
    "from typing import Optional\n",
    "\n",
    "from torch.utils.data import Dataset, DataLoader, Subset\n",
    "from tqdm.auto import tqdm\n",
    "\n",
    "from dataset import LongHorizonUnivariateDataModule, LongHorizonUnivariateDataset\n",
    "import pytorch_lightning as pl\n"
   ]
  },
  {
   "cell_type": "code",
   "execution_count": 47,
   "id": "1647f79c-9a8d-4c23-9c20-f35a8025b8f2",
   "metadata": {},
   "outputs": [
    {
     "name": "stdout",
     "output_type": "stream",
     "text": [
      "CPU times: user 18min 19s, sys: 9.43 s, total: 18min 28s\n",
      "Wall time: 18min 28s\n"
     ]
    }
   ],
   "source": [
    "%%time\n",
    "\n",
    "df = pd.read_excel('data/downloads/emhires_pv/EMHIRES_PVGIS_TSh_CF_n2_19862015_reformatt.xlsx')\n",
    "df.drop('SE33', axis=1, inplace=True)\n",
    "df['time_step'] = pd.date_range(start='1986-01-01', periods=len(df), freq='h')\n",
    "df = df.rename({'time_step': 'ds'}, axis=1).set_index('ds')\n",
    "df.to_parquet('data/emhires/pv_n2.parquet')"
   ]
  },
  {
   "cell_type": "code",
   "execution_count": 25,
   "id": "b4b20d89-091b-4e2b-a99e-48b38f3c3bf2",
   "metadata": {},
   "outputs": [],
   "source": [
    "%%time\n",
    "\n",
    "df = pd.read_excel('data/downloads/emhires_pv/EMHIRES_PVGIS_TSh_CF_n2_19862015_reformatt.xlsx')\n",
    "df.drop('SE33', axis=1, inplace=True)\n",
    "df['time_step'] = pd.date_range(start='1986-01-01', periods=len(df), freq='h')\n",
    "df = df.rename({'time_step': 'ds'}, axis=1).set_index('ds')\n",
    "df.to_parquet('data/emhires/pv_n2.parquet')"
   ]
  },
  {
   "cell_type": "code",
   "execution_count": 43,
   "id": "f6a2d15b-5836-41d9-b9b0-170766eda511",
   "metadata": {},
   "outputs": [],
   "source": []
  },
  {
   "cell_type": "code",
   "execution_count": 44,
   "id": "3f406ceb-716f-41bf-9740-31d4deb3f689",
   "metadata": {},
   "outputs": [],
   "source": [
    "df.to_csv('test_pd.csv')"
   ]
  },
  {
   "cell_type": "code",
   "execution_count": null,
   "id": "94f94314-739c-4580-a692-38ad9afa19e6",
   "metadata": {},
   "outputs": [],
   "source": []
  },
  {
   "cell_type": "code",
   "execution_count": 45,
   "id": "a5ce04bc-7a2a-4b31-9e20-d8053bad8455",
   "metadata": {},
   "outputs": [
    {
     "name": "stdout",
     "output_type": "stream",
     "text": [
      "CPU times: user 1.42 s, sys: 3.46 s, total: 4.88 s\n",
      "Wall time: 392 ms\n"
     ]
    }
   ],
   "source": [
    "%%time\n",
    "\n",
    "a = pd.read_parquet('test_pd.parquet')"
   ]
  },
  {
   "cell_type": "code",
   "execution_count": 46,
   "id": "2dfa2281-a4ea-4d2f-820d-554b4b3a7e3d",
   "metadata": {},
   "outputs": [
    {
     "data": {
      "text/html": [
       "<div>\n",
       "<style scoped>\n",
       "    .dataframe tbody tr th:only-of-type {\n",
       "        vertical-align: middle;\n",
       "    }\n",
       "\n",
       "    .dataframe tbody tr th {\n",
       "        vertical-align: top;\n",
       "    }\n",
       "\n",
       "    .dataframe thead th {\n",
       "        text-align: right;\n",
       "    }\n",
       "</style>\n",
       "<table border=\"1\" class=\"dataframe\">\n",
       "  <thead>\n",
       "    <tr style=\"text-align: right;\">\n",
       "      <th></th>\n",
       "      <th>AT11</th>\n",
       "      <th>AT21</th>\n",
       "      <th>AT12</th>\n",
       "      <th>AT31</th>\n",
       "      <th>AT32</th>\n",
       "      <th>AT22</th>\n",
       "      <th>AT33</th>\n",
       "      <th>AT34</th>\n",
       "      <th>AT13</th>\n",
       "      <th>BE21</th>\n",
       "      <th>...</th>\n",
       "      <th>UKI5UKI6</th>\n",
       "      <th>UKG2</th>\n",
       "      <th>UKM3</th>\n",
       "      <th>UKE3</th>\n",
       "      <th>UKJ2</th>\n",
       "      <th>UKC1</th>\n",
       "      <th>UKG3</th>\n",
       "      <th>UKL1</th>\n",
       "      <th>UKE4</th>\n",
       "      <th>ds</th>\n",
       "    </tr>\n",
       "    <tr>\n",
       "      <th>time_step</th>\n",
       "      <th></th>\n",
       "      <th></th>\n",
       "      <th></th>\n",
       "      <th></th>\n",
       "      <th></th>\n",
       "      <th></th>\n",
       "      <th></th>\n",
       "      <th></th>\n",
       "      <th></th>\n",
       "      <th></th>\n",
       "      <th></th>\n",
       "      <th></th>\n",
       "      <th></th>\n",
       "      <th></th>\n",
       "      <th></th>\n",
       "      <th></th>\n",
       "      <th></th>\n",
       "      <th></th>\n",
       "      <th></th>\n",
       "      <th></th>\n",
       "      <th></th>\n",
       "    </tr>\n",
       "  </thead>\n",
       "  <tbody>\n",
       "    <tr>\n",
       "      <th>1986-01-01 00:00:00</th>\n",
       "      <td>0.0</td>\n",
       "      <td>0.0</td>\n",
       "      <td>0.0</td>\n",
       "      <td>0.0</td>\n",
       "      <td>0.0</td>\n",
       "      <td>0.0</td>\n",
       "      <td>0.0</td>\n",
       "      <td>0.0</td>\n",
       "      <td>0.0</td>\n",
       "      <td>0.0</td>\n",
       "      <td>...</td>\n",
       "      <td>0.0</td>\n",
       "      <td>0.0</td>\n",
       "      <td>0.0</td>\n",
       "      <td>0.0</td>\n",
       "      <td>0.0</td>\n",
       "      <td>0.0</td>\n",
       "      <td>0.0</td>\n",
       "      <td>0.0</td>\n",
       "      <td>0.0</td>\n",
       "      <td>1986-01-01 00:00:00</td>\n",
       "    </tr>\n",
       "    <tr>\n",
       "      <th>1986-01-01 01:00:00</th>\n",
       "      <td>0.0</td>\n",
       "      <td>0.0</td>\n",
       "      <td>0.0</td>\n",
       "      <td>0.0</td>\n",
       "      <td>0.0</td>\n",
       "      <td>0.0</td>\n",
       "      <td>0.0</td>\n",
       "      <td>0.0</td>\n",
       "      <td>0.0</td>\n",
       "      <td>0.0</td>\n",
       "      <td>...</td>\n",
       "      <td>0.0</td>\n",
       "      <td>0.0</td>\n",
       "      <td>0.0</td>\n",
       "      <td>0.0</td>\n",
       "      <td>0.0</td>\n",
       "      <td>0.0</td>\n",
       "      <td>0.0</td>\n",
       "      <td>0.0</td>\n",
       "      <td>0.0</td>\n",
       "      <td>1986-01-01 01:00:00</td>\n",
       "    </tr>\n",
       "    <tr>\n",
       "      <th>1986-01-01 02:00:00</th>\n",
       "      <td>0.0</td>\n",
       "      <td>0.0</td>\n",
       "      <td>0.0</td>\n",
       "      <td>0.0</td>\n",
       "      <td>0.0</td>\n",
       "      <td>0.0</td>\n",
       "      <td>0.0</td>\n",
       "      <td>0.0</td>\n",
       "      <td>0.0</td>\n",
       "      <td>0.0</td>\n",
       "      <td>...</td>\n",
       "      <td>0.0</td>\n",
       "      <td>0.0</td>\n",
       "      <td>0.0</td>\n",
       "      <td>0.0</td>\n",
       "      <td>0.0</td>\n",
       "      <td>0.0</td>\n",
       "      <td>0.0</td>\n",
       "      <td>0.0</td>\n",
       "      <td>0.0</td>\n",
       "      <td>1986-01-01 02:00:00</td>\n",
       "    </tr>\n",
       "    <tr>\n",
       "      <th>1986-01-01 03:00:00</th>\n",
       "      <td>0.0</td>\n",
       "      <td>0.0</td>\n",
       "      <td>0.0</td>\n",
       "      <td>0.0</td>\n",
       "      <td>0.0</td>\n",
       "      <td>0.0</td>\n",
       "      <td>0.0</td>\n",
       "      <td>0.0</td>\n",
       "      <td>0.0</td>\n",
       "      <td>0.0</td>\n",
       "      <td>...</td>\n",
       "      <td>0.0</td>\n",
       "      <td>0.0</td>\n",
       "      <td>0.0</td>\n",
       "      <td>0.0</td>\n",
       "      <td>0.0</td>\n",
       "      <td>0.0</td>\n",
       "      <td>0.0</td>\n",
       "      <td>0.0</td>\n",
       "      <td>0.0</td>\n",
       "      <td>1986-01-01 03:00:00</td>\n",
       "    </tr>\n",
       "    <tr>\n",
       "      <th>1986-01-01 04:00:00</th>\n",
       "      <td>0.0</td>\n",
       "      <td>0.0</td>\n",
       "      <td>0.0</td>\n",
       "      <td>0.0</td>\n",
       "      <td>0.0</td>\n",
       "      <td>0.0</td>\n",
       "      <td>0.0</td>\n",
       "      <td>0.0</td>\n",
       "      <td>0.0</td>\n",
       "      <td>0.0</td>\n",
       "      <td>...</td>\n",
       "      <td>0.0</td>\n",
       "      <td>0.0</td>\n",
       "      <td>0.0</td>\n",
       "      <td>0.0</td>\n",
       "      <td>0.0</td>\n",
       "      <td>0.0</td>\n",
       "      <td>0.0</td>\n",
       "      <td>0.0</td>\n",
       "      <td>0.0</td>\n",
       "      <td>1986-01-01 04:00:00</td>\n",
       "    </tr>\n",
       "    <tr>\n",
       "      <th>...</th>\n",
       "      <td>...</td>\n",
       "      <td>...</td>\n",
       "      <td>...</td>\n",
       "      <td>...</td>\n",
       "      <td>...</td>\n",
       "      <td>...</td>\n",
       "      <td>...</td>\n",
       "      <td>...</td>\n",
       "      <td>...</td>\n",
       "      <td>...</td>\n",
       "      <td>...</td>\n",
       "      <td>...</td>\n",
       "      <td>...</td>\n",
       "      <td>...</td>\n",
       "      <td>...</td>\n",
       "      <td>...</td>\n",
       "      <td>...</td>\n",
       "      <td>...</td>\n",
       "      <td>...</td>\n",
       "      <td>...</td>\n",
       "      <td>...</td>\n",
       "    </tr>\n",
       "    <tr>\n",
       "      <th>2015-12-31 19:00:00</th>\n",
       "      <td>0.0</td>\n",
       "      <td>0.0</td>\n",
       "      <td>0.0</td>\n",
       "      <td>0.0</td>\n",
       "      <td>0.0</td>\n",
       "      <td>0.0</td>\n",
       "      <td>0.0</td>\n",
       "      <td>0.0</td>\n",
       "      <td>0.0</td>\n",
       "      <td>0.0</td>\n",
       "      <td>...</td>\n",
       "      <td>0.0</td>\n",
       "      <td>0.0</td>\n",
       "      <td>0.0</td>\n",
       "      <td>0.0</td>\n",
       "      <td>0.0</td>\n",
       "      <td>0.0</td>\n",
       "      <td>0.0</td>\n",
       "      <td>0.0</td>\n",
       "      <td>0.0</td>\n",
       "      <td>2015-12-31 19:00:00</td>\n",
       "    </tr>\n",
       "    <tr>\n",
       "      <th>2015-12-31 20:00:00</th>\n",
       "      <td>0.0</td>\n",
       "      <td>0.0</td>\n",
       "      <td>0.0</td>\n",
       "      <td>0.0</td>\n",
       "      <td>0.0</td>\n",
       "      <td>0.0</td>\n",
       "      <td>0.0</td>\n",
       "      <td>0.0</td>\n",
       "      <td>0.0</td>\n",
       "      <td>0.0</td>\n",
       "      <td>...</td>\n",
       "      <td>0.0</td>\n",
       "      <td>0.0</td>\n",
       "      <td>0.0</td>\n",
       "      <td>0.0</td>\n",
       "      <td>0.0</td>\n",
       "      <td>0.0</td>\n",
       "      <td>0.0</td>\n",
       "      <td>0.0</td>\n",
       "      <td>0.0</td>\n",
       "      <td>2015-12-31 20:00:00</td>\n",
       "    </tr>\n",
       "    <tr>\n",
       "      <th>2015-12-31 21:00:00</th>\n",
       "      <td>0.0</td>\n",
       "      <td>0.0</td>\n",
       "      <td>0.0</td>\n",
       "      <td>0.0</td>\n",
       "      <td>0.0</td>\n",
       "      <td>0.0</td>\n",
       "      <td>0.0</td>\n",
       "      <td>0.0</td>\n",
       "      <td>0.0</td>\n",
       "      <td>0.0</td>\n",
       "      <td>...</td>\n",
       "      <td>0.0</td>\n",
       "      <td>0.0</td>\n",
       "      <td>0.0</td>\n",
       "      <td>0.0</td>\n",
       "      <td>0.0</td>\n",
       "      <td>0.0</td>\n",
       "      <td>0.0</td>\n",
       "      <td>0.0</td>\n",
       "      <td>0.0</td>\n",
       "      <td>2015-12-31 21:00:00</td>\n",
       "    </tr>\n",
       "    <tr>\n",
       "      <th>2015-12-31 22:00:00</th>\n",
       "      <td>0.0</td>\n",
       "      <td>0.0</td>\n",
       "      <td>0.0</td>\n",
       "      <td>0.0</td>\n",
       "      <td>0.0</td>\n",
       "      <td>0.0</td>\n",
       "      <td>0.0</td>\n",
       "      <td>0.0</td>\n",
       "      <td>0.0</td>\n",
       "      <td>0.0</td>\n",
       "      <td>...</td>\n",
       "      <td>0.0</td>\n",
       "      <td>0.0</td>\n",
       "      <td>0.0</td>\n",
       "      <td>0.0</td>\n",
       "      <td>0.0</td>\n",
       "      <td>0.0</td>\n",
       "      <td>0.0</td>\n",
       "      <td>0.0</td>\n",
       "      <td>0.0</td>\n",
       "      <td>2015-12-31 22:00:00</td>\n",
       "    </tr>\n",
       "    <tr>\n",
       "      <th>2015-12-31 23:00:00</th>\n",
       "      <td>0.0</td>\n",
       "      <td>0.0</td>\n",
       "      <td>0.0</td>\n",
       "      <td>0.0</td>\n",
       "      <td>0.0</td>\n",
       "      <td>0.0</td>\n",
       "      <td>0.0</td>\n",
       "      <td>0.0</td>\n",
       "      <td>0.0</td>\n",
       "      <td>0.0</td>\n",
       "      <td>...</td>\n",
       "      <td>0.0</td>\n",
       "      <td>0.0</td>\n",
       "      <td>0.0</td>\n",
       "      <td>0.0</td>\n",
       "      <td>0.0</td>\n",
       "      <td>0.0</td>\n",
       "      <td>0.0</td>\n",
       "      <td>0.0</td>\n",
       "      <td>0.0</td>\n",
       "      <td>2015-12-31 23:00:00</td>\n",
       "    </tr>\n",
       "  </tbody>\n",
       "</table>\n",
       "<p>262968 rows × 260 columns</p>\n",
       "</div>"
      ],
      "text/plain": [
       "                     AT11  AT21  AT12  AT31  AT32  AT22  AT33  AT34  AT13  \\\n",
       "time_step                                                                   \n",
       "1986-01-01 00:00:00   0.0   0.0   0.0   0.0   0.0   0.0   0.0   0.0   0.0   \n",
       "1986-01-01 01:00:00   0.0   0.0   0.0   0.0   0.0   0.0   0.0   0.0   0.0   \n",
       "1986-01-01 02:00:00   0.0   0.0   0.0   0.0   0.0   0.0   0.0   0.0   0.0   \n",
       "1986-01-01 03:00:00   0.0   0.0   0.0   0.0   0.0   0.0   0.0   0.0   0.0   \n",
       "1986-01-01 04:00:00   0.0   0.0   0.0   0.0   0.0   0.0   0.0   0.0   0.0   \n",
       "...                   ...   ...   ...   ...   ...   ...   ...   ...   ...   \n",
       "2015-12-31 19:00:00   0.0   0.0   0.0   0.0   0.0   0.0   0.0   0.0   0.0   \n",
       "2015-12-31 20:00:00   0.0   0.0   0.0   0.0   0.0   0.0   0.0   0.0   0.0   \n",
       "2015-12-31 21:00:00   0.0   0.0   0.0   0.0   0.0   0.0   0.0   0.0   0.0   \n",
       "2015-12-31 22:00:00   0.0   0.0   0.0   0.0   0.0   0.0   0.0   0.0   0.0   \n",
       "2015-12-31 23:00:00   0.0   0.0   0.0   0.0   0.0   0.0   0.0   0.0   0.0   \n",
       "\n",
       "                     BE21  ...  UKI5UKI6  UKG2  UKM3  UKE3  UKJ2  UKC1  UKG3  \\\n",
       "time_step                  ...                                                 \n",
       "1986-01-01 00:00:00   0.0  ...       0.0   0.0   0.0   0.0   0.0   0.0   0.0   \n",
       "1986-01-01 01:00:00   0.0  ...       0.0   0.0   0.0   0.0   0.0   0.0   0.0   \n",
       "1986-01-01 02:00:00   0.0  ...       0.0   0.0   0.0   0.0   0.0   0.0   0.0   \n",
       "1986-01-01 03:00:00   0.0  ...       0.0   0.0   0.0   0.0   0.0   0.0   0.0   \n",
       "1986-01-01 04:00:00   0.0  ...       0.0   0.0   0.0   0.0   0.0   0.0   0.0   \n",
       "...                   ...  ...       ...   ...   ...   ...   ...   ...   ...   \n",
       "2015-12-31 19:00:00   0.0  ...       0.0   0.0   0.0   0.0   0.0   0.0   0.0   \n",
       "2015-12-31 20:00:00   0.0  ...       0.0   0.0   0.0   0.0   0.0   0.0   0.0   \n",
       "2015-12-31 21:00:00   0.0  ...       0.0   0.0   0.0   0.0   0.0   0.0   0.0   \n",
       "2015-12-31 22:00:00   0.0  ...       0.0   0.0   0.0   0.0   0.0   0.0   0.0   \n",
       "2015-12-31 23:00:00   0.0  ...       0.0   0.0   0.0   0.0   0.0   0.0   0.0   \n",
       "\n",
       "                     UKL1  UKE4                  ds  \n",
       "time_step                                            \n",
       "1986-01-01 00:00:00   0.0   0.0 1986-01-01 00:00:00  \n",
       "1986-01-01 01:00:00   0.0   0.0 1986-01-01 01:00:00  \n",
       "1986-01-01 02:00:00   0.0   0.0 1986-01-01 02:00:00  \n",
       "1986-01-01 03:00:00   0.0   0.0 1986-01-01 03:00:00  \n",
       "1986-01-01 04:00:00   0.0   0.0 1986-01-01 04:00:00  \n",
       "...                   ...   ...                 ...  \n",
       "2015-12-31 19:00:00   0.0   0.0 2015-12-31 19:00:00  \n",
       "2015-12-31 20:00:00   0.0   0.0 2015-12-31 20:00:00  \n",
       "2015-12-31 21:00:00   0.0   0.0 2015-12-31 21:00:00  \n",
       "2015-12-31 22:00:00   0.0   0.0 2015-12-31 22:00:00  \n",
       "2015-12-31 23:00:00   0.0   0.0 2015-12-31 23:00:00  \n",
       "\n",
       "[262968 rows x 260 columns]"
      ]
     },
     "execution_count": 46,
     "metadata": {},
     "output_type": "execute_result"
    }
   ],
   "source": [
    "a"
   ]
  },
  {
   "cell_type": "code",
   "execution_count": null,
   "id": "5480b174-bf49-4307-80c6-b90fd4c00fa0",
   "metadata": {},
   "outputs": [],
   "source": []
  },
  {
   "cell_type": "code",
   "execution_count": null,
   "id": "714ce208-7c2a-4753-9fad-f686eb14670b",
   "metadata": {},
   "outputs": [],
   "source": []
  },
  {
   "cell_type": "code",
   "execution_count": 3,
   "id": "a96a702a",
   "metadata": {},
   "outputs": [],
   "source": [
    "def collate_fn_flat_deal(batch):\n",
    "    out = {}\n",
    "    for b in batch:\n",
    "        for k, bv in b.items():\n",
    "            v = out.get(k, [])\n",
    "            v.append(bv)\n",
    "            out[k] = v\n",
    "            \n",
    "    for k,v in out.items():\n",
    "        v = np.concatenate(v)\n",
    "        if type(v[0]) not in [np.str_, pd.Timestamp]:\n",
    "            v = torch.as_tensor(v)\n",
    "        out[k] = v\n",
    "    return out\n",
    "\n",
    "class LongHorizonUnivariateDataModule(pl.LightningDataModule):\n",
    "    def __init__(self, \n",
    "                 name: str = 'ETTm2', \n",
    "                 train_batch_size: int = 128, \n",
    "                 eval_batch_size: int = None,\n",
    "                 num_workers: int = 4,\n",
    "                 persistent_workers: bool = True,\n",
    "                 horizon_length: int = 720,\n",
    "                 history_length: int = 720,\n",
    "                 split_proportions: List[float] = [0.6, 0.2, 0.2]\n",
    "                ):\n",
    "        super().__init__()\n",
    "        self.name = name\n",
    "        self.train_batch_size = train_batch_size\n",
    "        self.eval_batch_size = train_batch_size\n",
    "        if eval_batch_size is not None:\n",
    "            self.eval_batch_size = eval_batch_size\n",
    "        self.num_workers = num_workers\n",
    "        self.persistent_workers = persistent_workers\n",
    "        self.history_length = history_length\n",
    "        self.horizon_length = horizon_length\n",
    "        self.split_proportions = np.array(split_proportions).cumsum()\n",
    "        \n",
    "        assert self.split_proportions[-1] == 1, \"Split proportions must sum up to 1\"\n",
    "\n",
    "    def prepare_data(self):\n",
    "        LongHorizon.load(directory='./data', group='ETTm2')\n",
    "\n",
    "    def setup(self, stage: str):\n",
    "        # Assign train/val datasets for use in dataloaders\n",
    "        if stage == \"fit\":\n",
    "            self.train_dataset = LongHorizonUnivariateDataset(name=self.name, split='train', \n",
    "                                                              split_start=0.0,\n",
    "                                                              split_end=self.split_proportions[0],\n",
    "                                                              horizon_length=self.horizon_length,\n",
    "                                                              history_length = self.history_length)\n",
    "            self.val_dataset = LongHorizonUnivariateDataset(name=self.name, split='val', \n",
    "                                                            split_start=self.split_proportions[0],\n",
    "                                                            split_end=self.split_proportions[1],\n",
    "                                                            horizon_length=self.horizon_length,\n",
    "                                                            history_length = self.history_length)\n",
    "        # Assign test dataset for use in dataloader(s)\n",
    "        if stage == \"test\":\n",
    "            self.test_dataset = LongHorizonUnivariateDataset(name=self.name, split='test', \n",
    "                                                             split_start=self.split_proportions[1],\n",
    "                                                             split_end=self.split_proportions[2],\n",
    "                                                             horizon_length=self.horizon_length,\n",
    "                                                             history_length = self.history_length)\n",
    "        if stage == \"predict\":\n",
    "            self.predict_dataset = LongHorizonUnivariateDataset(name=self.name, split='test', \n",
    "                                                                split_start=self.split_proportions[1],\n",
    "                                                                split_end=self.split_proportions[2],\n",
    "                                                                horizon_length=self.horizon_length,\n",
    "                                                                history_length = self.history_length)\n",
    "\n",
    "    def train_dataloader(self):\n",
    "        return DataLoader(self.train_dataset, batch_size=self.train_batch_size, \n",
    "                          shuffle=True, pin_memory=True, \n",
    "                          persistent_workers=self.persistent_workers,\n",
    "                          num_workers=self.num_workers, collate_fn=collate_fn_flat_deal)\n",
    "\n",
    "    def val_dataloader(self):\n",
    "        return DataLoader(self.val_dataset, batch_size=self.eval_batch_size, \n",
    "                          shuffle=False, pin_memory=True, \n",
    "                          persistent_workers=self.persistent_workers,\n",
    "                          num_workers=self.num_workers, collate_fn=collate_fn_flat_deal)\n",
    "\n",
    "    def test_dataloader(self):\n",
    "        return DataLoader(self.test_dataset, batch_size=self.eval_batch_size,\n",
    "                          shuffle=False, pin_memory=True, \n",
    "                          persistent_workers=self.persistent_workers,\n",
    "                          num_workers=self.num_workers, collate_fn=collate_fn_flat_deal)\n",
    "\n",
    "    def predict_dataloader(self):\n",
    "        return DataLoader(self.predict_dataset, batch_size=self.eval_batch_size, \n",
    "                          shuffle=False, pin_memory=True, \n",
    "                          persistent_workers=self.persistent_workers,\n",
    "                          num_workers=self.num_workers, collate_fn=collate_fn_flat_deal)"
   ]
  },
  {
   "cell_type": "code",
   "execution_count": 4,
   "id": "76ba5af8",
   "metadata": {},
   "outputs": [],
   "source": [
    "dm = LongHorizonUnivariateDataModule(train_batch_size=128)\n",
    "dm.prepare_data()\n",
    "dm.setup(stage='fit')\n",
    "dm.setup(stage='test')"
   ]
  },
  {
   "cell_type": "code",
   "execution_count": 5,
   "id": "b46d725e",
   "metadata": {},
   "outputs": [
    {
     "data": {
      "text/plain": [
       "array([0.6, 0.8, 1. ])"
      ]
     },
     "execution_count": 5,
     "metadata": {},
     "output_type": "execute_result"
    }
   ],
   "source": [
    "dm.split_proportions"
   ]
  },
  {
   "cell_type": "code",
   "execution_count": 6,
   "id": "994aed84",
   "metadata": {},
   "outputs": [],
   "source": [
    "train_loader = dm.train_dataloader()\n",
    "val_loader = dm.val_dataloader()\n",
    "test_loader = dm.test_dataloader()"
   ]
  },
  {
   "cell_type": "code",
   "execution_count": 9,
   "id": "63e51209",
   "metadata": {},
   "outputs": [
    {
     "data": {
      "text/plain": [
       "(1, 34560, 3)"
      ]
     },
     "execution_count": 9,
     "metadata": {},
     "output_type": "execute_result"
    }
   ],
   "source": [
    "train_loader.dataset.time_features.shape"
   ]
  },
  {
   "cell_type": "code",
   "execution_count": 100,
   "id": "d650914b",
   "metadata": {},
   "outputs": [
    {
     "data": {
      "application/vnd.jupyter.widget-view+json": {
       "model_id": "ee2750caf00e4be9a7f0ef8c2a6ab3ba",
       "version_major": 2,
       "version_minor": 0
      },
      "text/plain": [
       "  0%|          | 0/1812 [00:00<?, ?it/s]"
      ]
     },
     "metadata": {},
     "output_type": "display_data"
    }
   ],
   "source": [
    "for b in tqdm(train_loader):\n",
    "    pass"
   ]
  },
  {
   "cell_type": "code",
   "execution_count": 104,
   "id": "0851443a",
   "metadata": {},
   "outputs": [
    {
     "data": {
      "text/plain": [
       "{'target': tensor([[-0.7275, -0.7085, -0.6896,  ..., -1.2778, -1.2778, -1.2778],\n",
       "         [-0.7085, -0.6896, -0.6896,  ..., -1.2778, -1.2778, -1.2778],\n",
       "         [-0.6896, -0.6896, -0.7085,  ..., -1.2778, -1.2778, -1.2778],\n",
       "         ...,\n",
       "         [-0.8413, -0.7465, -0.6895,  ..., -1.5813, -1.5813, -1.5813],\n",
       "         [-0.7465, -0.6895, -0.6327,  ..., -1.5813, -1.5813, -1.5623],\n",
       "         [-0.6895, -0.6327, -0.6137,  ..., -1.5813, -1.5623, -1.5623]],\n",
       "        dtype=torch.float64),\n",
       " 'history': tensor([[-2.0367, -2.0556, -2.0556,  ..., -0.7654, -0.7275, -0.7275],\n",
       "         [-2.0556, -2.0556, -2.0936,  ..., -0.7275, -0.7275, -0.7275],\n",
       "         [-2.0556, -2.0936, -2.0936,  ..., -0.7275, -0.7275, -0.7085],\n",
       "         ...,\n",
       "         [-1.8659, -1.8659, -1.8849,  ..., -1.1070, -1.0121, -0.9362],\n",
       "         [-1.8659, -1.8849, -1.9038,  ..., -1.0121, -0.9362, -0.8413],\n",
       "         [-1.8849, -1.9038, -1.9038,  ..., -0.9362, -0.8413, -0.7465]],\n",
       "        dtype=torch.float64),\n",
       " 'series_id': tensor([6, 6, 6, 6, 6, 6, 6, 6, 6, 6, 6, 6, 6, 6, 6, 6, 6, 6, 6, 6, 6, 6, 6, 6,\n",
       "         6, 6, 6, 6, 6, 6, 6, 6, 6, 6, 6, 6, 6, 6, 6, 6, 6, 6, 6, 6, 6, 6, 6, 6,\n",
       "         6, 6, 6, 6, 6, 6, 6, 6, 6, 6, 6, 6, 6, 6, 6, 6, 6, 6, 6, 6, 6, 6, 6, 6,\n",
       "         6, 6, 6, 6, 6, 6, 6, 6, 6, 6, 6, 6, 6, 6, 6])}"
      ]
     },
     "execution_count": 104,
     "metadata": {},
     "output_type": "execute_result"
    }
   ],
   "source": [
    "b"
   ]
  },
  {
   "cell_type": "code",
   "execution_count": 101,
   "id": "b5484c63",
   "metadata": {},
   "outputs": [
    {
     "data": {
      "application/vnd.jupyter.widget-view+json": {
       "model_id": "0f5a33ea292b4168a67b77f19775238c",
       "version_major": 2,
       "version_minor": 0
      },
      "text/plain": [
       "  0%|          | 0/591 [00:00<?, ?it/s]"
      ]
     },
     "metadata": {},
     "output_type": "display_data"
    }
   ],
   "source": [
    "for b in tqdm(val_loader):\n",
    "    pass"
   ]
  },
  {
   "cell_type": "code",
   "execution_count": 102,
   "id": "5d83956e",
   "metadata": {},
   "outputs": [
    {
     "data": {
      "application/vnd.jupyter.widget-view+json": {
       "model_id": "5dbd430c911d4e4aa2e03afe2b47f2f0",
       "version_major": 2,
       "version_minor": 0
      },
      "text/plain": [
       "  0%|          | 0/591 [00:00<?, ?it/s]"
      ]
     },
     "metadata": {},
     "output_type": "display_data"
    }
   ],
   "source": [
    "for b in tqdm(test_loader):\n",
    "    pass"
   ]
  },
  {
   "cell_type": "code",
   "execution_count": 88,
   "id": "4ebd3b56",
   "metadata": {},
   "outputs": [],
   "source": [
    "ETTm2 = LongHorizonUnivariateDataset(name='ETTm2', split='train', split_start=0, split_end=0.6)"
   ]
  },
  {
   "cell_type": "code",
   "execution_count": 90,
   "id": "4a90ed8e",
   "metadata": {},
   "outputs": [
    {
     "data": {
      "text/plain": [
       "34560"
      ]
     },
     "execution_count": 90,
     "metadata": {},
     "output_type": "execute_result"
    }
   ],
   "source": [
    "len(ETTm2.df)"
   ]
  },
  {
   "cell_type": "code",
   "execution_count": 31,
   "id": "f303d1d8",
   "metadata": {},
   "outputs": [
    {
     "data": {
      "text/plain": [
       "Timestamp('2017-02-01 00:00:00')"
      ]
     },
     "execution_count": 31,
     "metadata": {},
     "output_type": "execute_result"
    }
   ],
   "source": [
    "ETTm2.df.index.max()"
   ]
  },
  {
   "cell_type": "code",
   "execution_count": 18,
   "id": "58754228",
   "metadata": {},
   "outputs": [
    {
     "data": {
      "text/plain": [
       "57600"
      ]
     },
     "execution_count": 18,
     "metadata": {},
     "output_type": "execute_result"
    }
   ],
   "source": [
    "len(ETTm2.df)"
   ]
  },
  {
   "cell_type": "code",
   "execution_count": 20,
   "id": "b738c25c",
   "metadata": {},
   "outputs": [
    {
     "data": {
      "text/plain": [
       "0.2"
      ]
     },
     "execution_count": 20,
     "metadata": {},
     "output_type": "execute_result"
    }
   ],
   "source": [
    "(12240-720) / 57600"
   ]
  },
  {
   "cell_type": "code",
   "execution_count": 13,
   "id": "6ed764ac",
   "metadata": {},
   "outputs": [
    {
     "data": {
      "text/plain": [
       "{'target': array([], shape=(1, 0), dtype=float64),\n",
       " 'history': array([[-0.07068447]]),\n",
       " 'series_id': array([3])}"
      ]
     },
     "execution_count": 13,
     "metadata": {},
     "output_type": "execute_result"
    }
   ],
   "source": [
    "ETTm2[2*ETTm2.num_windows+ETTm2.num_windows-1]"
   ]
  },
  {
   "cell_type": "code",
   "execution_count": 9,
   "id": "3b702313",
   "metadata": {},
   "outputs": [],
   "source": [
    "def collate_fn_flat_deal(batch):\n",
    "    out = {}\n",
    "    for b in batch:\n",
    "        for k, bv in b.items():\n",
    "            v = out.get(k, [])\n",
    "            v.append(bv)\n",
    "            out[k] = v\n",
    "            \n",
    "    for k,v in out.items():\n",
    "        v = np.concatenate(v)\n",
    "        if type(v[0]) not in [np.str_, pd.Timestamp]:\n",
    "            v = torch.as_tensor(v)\n",
    "        out[k] = v\n",
    "    return out\n",
    "\n",
    "dl = DataLoader(ETTm2, batch_size=512, \n",
    "                          shuffle=True, pin_memory=True, \n",
    "                          persistent_workers=True,\n",
    "                          num_workers=4, collate_fn=collate_fn_flat_deal)"
   ]
  },
  {
   "cell_type": "code",
   "execution_count": 10,
   "id": "0b01598d",
   "metadata": {},
   "outputs": [
    {
     "data": {
      "application/vnd.jupyter.widget-view+json": {
       "model_id": "e458e62c60754b428fa2180b875a5dc1",
       "version_major": 2,
       "version_minor": 0
      },
      "text/plain": [
       "  0%|          | 0/453 [00:00<?, ?it/s]"
      ]
     },
     "metadata": {},
     "output_type": "display_data"
    }
   ],
   "source": [
    "for b in tqdm(dl):\n",
    "    \n",
    "    a=1"
   ]
  },
  {
   "cell_type": "code",
   "execution_count": 11,
   "id": "d18916e5",
   "metadata": {},
   "outputs": [
    {
     "data": {
      "text/plain": [
       "torch.Size([423, 720])"
      ]
     },
     "execution_count": 11,
     "metadata": {},
     "output_type": "execute_result"
    }
   ],
   "source": [
    "b['history'].shape"
   ]
  },
  {
   "cell_type": "code",
   "execution_count": 69,
   "id": "2b5a60bc",
   "metadata": {},
   "outputs": [
    {
     "data": {
      "text/html": [
       "<div>\n",
       "<style scoped>\n",
       "    .dataframe tbody tr th:only-of-type {\n",
       "        vertical-align: middle;\n",
       "    }\n",
       "\n",
       "    .dataframe tbody tr th {\n",
       "        vertical-align: top;\n",
       "    }\n",
       "\n",
       "    .dataframe thead th {\n",
       "        text-align: right;\n",
       "    }\n",
       "</style>\n",
       "<table border=\"1\" class=\"dataframe\">\n",
       "  <thead>\n",
       "    <tr style=\"text-align: right;\">\n",
       "      <th></th>\n",
       "      <th>unique_id</th>\n",
       "      <th>ds</th>\n",
       "      <th>y</th>\n",
       "    </tr>\n",
       "  </thead>\n",
       "  <tbody>\n",
       "    <tr>\n",
       "      <th>0</th>\n",
       "      <td>HUFL</td>\n",
       "      <td>2016-07-01 00:00:00</td>\n",
       "      <td>-0.041413</td>\n",
       "    </tr>\n",
       "    <tr>\n",
       "      <th>1</th>\n",
       "      <td>HUFL</td>\n",
       "      <td>2016-07-01 00:15:00</td>\n",
       "      <td>-0.185467</td>\n",
       "    </tr>\n",
       "    <tr>\n",
       "      <th>2</th>\n",
       "      <td>HUFL</td>\n",
       "      <td>2016-07-01 00:30:00</td>\n",
       "      <td>-0.257495</td>\n",
       "    </tr>\n",
       "    <tr>\n",
       "      <th>3</th>\n",
       "      <td>HUFL</td>\n",
       "      <td>2016-07-01 00:45:00</td>\n",
       "      <td>-0.577510</td>\n",
       "    </tr>\n",
       "    <tr>\n",
       "      <th>4</th>\n",
       "      <td>HUFL</td>\n",
       "      <td>2016-07-01 01:00:00</td>\n",
       "      <td>-0.385501</td>\n",
       "    </tr>\n",
       "    <tr>\n",
       "      <th>...</th>\n",
       "      <td>...</td>\n",
       "      <td>...</td>\n",
       "      <td>...</td>\n",
       "    </tr>\n",
       "    <tr>\n",
       "      <th>403195</th>\n",
       "      <td>OT</td>\n",
       "      <td>2018-02-20 22:45:00</td>\n",
       "      <td>-1.581325</td>\n",
       "    </tr>\n",
       "    <tr>\n",
       "      <th>403196</th>\n",
       "      <td>OT</td>\n",
       "      <td>2018-02-20 23:00:00</td>\n",
       "      <td>-1.581325</td>\n",
       "    </tr>\n",
       "    <tr>\n",
       "      <th>403197</th>\n",
       "      <td>OT</td>\n",
       "      <td>2018-02-20 23:15:00</td>\n",
       "      <td>-1.581325</td>\n",
       "    </tr>\n",
       "    <tr>\n",
       "      <th>403198</th>\n",
       "      <td>OT</td>\n",
       "      <td>2018-02-20 23:30:00</td>\n",
       "      <td>-1.562328</td>\n",
       "    </tr>\n",
       "    <tr>\n",
       "      <th>403199</th>\n",
       "      <td>OT</td>\n",
       "      <td>2018-02-20 23:45:00</td>\n",
       "      <td>-1.562328</td>\n",
       "    </tr>\n",
       "  </tbody>\n",
       "</table>\n",
       "<p>403200 rows × 3 columns</p>\n",
       "</div>"
      ],
      "text/plain": [
       "       unique_id                  ds         y\n",
       "0           HUFL 2016-07-01 00:00:00 -0.041413\n",
       "1           HUFL 2016-07-01 00:15:00 -0.185467\n",
       "2           HUFL 2016-07-01 00:30:00 -0.257495\n",
       "3           HUFL 2016-07-01 00:45:00 -0.577510\n",
       "4           HUFL 2016-07-01 01:00:00 -0.385501\n",
       "...          ...                 ...       ...\n",
       "403195        OT 2018-02-20 22:45:00 -1.581325\n",
       "403196        OT 2018-02-20 23:00:00 -1.581325\n",
       "403197        OT 2018-02-20 23:15:00 -1.581325\n",
       "403198        OT 2018-02-20 23:30:00 -1.562328\n",
       "403199        OT 2018-02-20 23:45:00 -1.562328\n",
       "\n",
       "[403200 rows x 3 columns]"
      ]
     },
     "execution_count": 69,
     "metadata": {},
     "output_type": "execute_result"
    }
   ],
   "source": [
    "Y_df.ds = pd.to_datetime(Y_df.ds)\n",
    "# Y_df = Y_df.pivot(index='ds', columns='unique_id', values='y')\n",
    "\n",
    "Y_df"
   ]
  },
  {
   "cell_type": "code",
   "execution_count": 41,
   "id": "d7c8882a",
   "metadata": {},
   "outputs": [
    {
     "data": {
      "text/html": [
       "<div>\n",
       "<style scoped>\n",
       "    .dataframe tbody tr th:only-of-type {\n",
       "        vertical-align: middle;\n",
       "    }\n",
       "\n",
       "    .dataframe tbody tr th {\n",
       "        vertical-align: top;\n",
       "    }\n",
       "\n",
       "    .dataframe thead th {\n",
       "        text-align: right;\n",
       "    }\n",
       "</style>\n",
       "<table border=\"1\" class=\"dataframe\">\n",
       "  <thead>\n",
       "    <tr style=\"text-align: right;\">\n",
       "      <th></th>\n",
       "      <th>unique_id</th>\n",
       "      <th>HUFL</th>\n",
       "      <th>HULL</th>\n",
       "      <th>LUFL</th>\n",
       "      <th>LULL</th>\n",
       "      <th>MUFL</th>\n",
       "      <th>MULL</th>\n",
       "      <th>OT</th>\n",
       "    </tr>\n",
       "    <tr>\n",
       "      <th></th>\n",
       "      <th>ds</th>\n",
       "      <th></th>\n",
       "      <th></th>\n",
       "      <th></th>\n",
       "      <th></th>\n",
       "      <th></th>\n",
       "      <th></th>\n",
       "      <th></th>\n",
       "    </tr>\n",
       "  </thead>\n",
       "  <tbody>\n",
       "    <tr>\n",
       "      <th rowspan=\"11\" valign=\"top\">y</th>\n",
       "      <th>2016-07-01 00:00:00</th>\n",
       "      <td>-0.041413</td>\n",
       "      <td>0.040104</td>\n",
       "      <td>0.695804</td>\n",
       "      <td>0.434430</td>\n",
       "      <td>-0.599211</td>\n",
       "      <td>-0.393536</td>\n",
       "      <td>1.018032</td>\n",
       "    </tr>\n",
       "    <tr>\n",
       "      <th>2016-07-01 00:15:00</th>\n",
       "      <td>-0.185467</td>\n",
       "      <td>-0.214450</td>\n",
       "      <td>0.434685</td>\n",
       "      <td>0.428168</td>\n",
       "      <td>-0.658068</td>\n",
       "      <td>-0.659338</td>\n",
       "      <td>0.980124</td>\n",
       "    </tr>\n",
       "    <tr>\n",
       "      <th>2016-07-01 00:30:00</th>\n",
       "      <td>-0.257495</td>\n",
       "      <td>-0.378215</td>\n",
       "      <td>0.698168</td>\n",
       "      <td>0.428168</td>\n",
       "      <td>-0.728020</td>\n",
       "      <td>-0.978366</td>\n",
       "      <td>0.904223</td>\n",
       "    </tr>\n",
       "    <tr>\n",
       "      <th>2016-07-01 00:45:00</th>\n",
       "      <td>-0.577510</td>\n",
       "      <td>-0.669474</td>\n",
       "      <td>0.698168</td>\n",
       "      <td>0.423087</td>\n",
       "      <td>-0.834580</td>\n",
       "      <td>-0.606111</td>\n",
       "      <td>0.885226</td>\n",
       "    </tr>\n",
       "    <tr>\n",
       "      <th>2016-07-01 01:00:00</th>\n",
       "      <td>-0.385501</td>\n",
       "      <td>-0.469220</td>\n",
       "      <td>0.698168</td>\n",
       "      <td>0.423087</td>\n",
       "      <td>-0.753474</td>\n",
       "      <td>-0.996218</td>\n",
       "      <td>0.885226</td>\n",
       "    </tr>\n",
       "    <tr>\n",
       "      <th>...</th>\n",
       "      <td>...</td>\n",
       "      <td>...</td>\n",
       "      <td>...</td>\n",
       "      <td>...</td>\n",
       "      <td>...</td>\n",
       "      <td>...</td>\n",
       "      <td>...</td>\n",
       "    </tr>\n",
       "    <tr>\n",
       "      <th>2018-02-20 22:45:00</th>\n",
       "      <td>-1.377739</td>\n",
       "      <td>-1.742855</td>\n",
       "      <td>-2.475240</td>\n",
       "      <td>-0.070684</td>\n",
       "      <td>-0.514900</td>\n",
       "      <td>-1.253094</td>\n",
       "      <td>-1.581325</td>\n",
       "    </tr>\n",
       "    <tr>\n",
       "      <th>2018-02-20 23:00:00</th>\n",
       "      <td>-1.409741</td>\n",
       "      <td>-1.724610</td>\n",
       "      <td>-2.743237</td>\n",
       "      <td>-0.070684</td>\n",
       "      <td>-0.438540</td>\n",
       "      <td>-1.120193</td>\n",
       "      <td>-1.581325</td>\n",
       "    </tr>\n",
       "    <tr>\n",
       "      <th>2018-02-20 23:15:00</th>\n",
       "      <td>-1.433814</td>\n",
       "      <td>-1.706366</td>\n",
       "      <td>-2.743237</td>\n",
       "      <td>-0.070684</td>\n",
       "      <td>-0.476750</td>\n",
       "      <td>-1.129119</td>\n",
       "      <td>-1.581325</td>\n",
       "    </tr>\n",
       "    <tr>\n",
       "      <th>2018-02-20 23:30:00</th>\n",
       "      <td>-1.305712</td>\n",
       "      <td>-1.633605</td>\n",
       "      <td>-2.743237</td>\n",
       "      <td>-0.070684</td>\n",
       "      <td>-0.470342</td>\n",
       "      <td>-1.102341</td>\n",
       "      <td>-1.562328</td>\n",
       "    </tr>\n",
       "    <tr>\n",
       "      <th>2018-02-20 23:45:00</th>\n",
       "      <td>-1.513770</td>\n",
       "      <td>-1.742855</td>\n",
       "      <td>-2.736360</td>\n",
       "      <td>-0.070684</td>\n",
       "      <td>-0.529199</td>\n",
       "      <td>-1.173419</td>\n",
       "      <td>-1.562328</td>\n",
       "    </tr>\n",
       "  </tbody>\n",
       "</table>\n",
       "<p>57600 rows × 7 columns</p>\n",
       "</div>"
      ],
      "text/plain": [
       "unique_id                  HUFL      HULL      LUFL      LULL      MUFL  \\\n",
       "  ds                                                                      \n",
       "y 2016-07-01 00:00:00 -0.041413  0.040104  0.695804  0.434430 -0.599211   \n",
       "  2016-07-01 00:15:00 -0.185467 -0.214450  0.434685  0.428168 -0.658068   \n",
       "  2016-07-01 00:30:00 -0.257495 -0.378215  0.698168  0.428168 -0.728020   \n",
       "  2016-07-01 00:45:00 -0.577510 -0.669474  0.698168  0.423087 -0.834580   \n",
       "  2016-07-01 01:00:00 -0.385501 -0.469220  0.698168  0.423087 -0.753474   \n",
       "...                         ...       ...       ...       ...       ...   \n",
       "  2018-02-20 22:45:00 -1.377739 -1.742855 -2.475240 -0.070684 -0.514900   \n",
       "  2018-02-20 23:00:00 -1.409741 -1.724610 -2.743237 -0.070684 -0.438540   \n",
       "  2018-02-20 23:15:00 -1.433814 -1.706366 -2.743237 -0.070684 -0.476750   \n",
       "  2018-02-20 23:30:00 -1.305712 -1.633605 -2.743237 -0.070684 -0.470342   \n",
       "  2018-02-20 23:45:00 -1.513770 -1.742855 -2.736360 -0.070684 -0.529199   \n",
       "\n",
       "unique_id                  MULL        OT  \n",
       "  ds                                       \n",
       "y 2016-07-01 00:00:00 -0.393536  1.018032  \n",
       "  2016-07-01 00:15:00 -0.659338  0.980124  \n",
       "  2016-07-01 00:30:00 -0.978366  0.904223  \n",
       "  2016-07-01 00:45:00 -0.606111  0.885226  \n",
       "  2016-07-01 01:00:00 -0.996218  0.885226  \n",
       "...                         ...       ...  \n",
       "  2018-02-20 22:45:00 -1.253094 -1.581325  \n",
       "  2018-02-20 23:00:00 -1.120193 -1.581325  \n",
       "  2018-02-20 23:15:00 -1.129119 -1.581325  \n",
       "  2018-02-20 23:30:00 -1.102341 -1.562328  \n",
       "  2018-02-20 23:45:00 -1.173419 -1.562328  \n",
       "\n",
       "[57600 rows x 7 columns]"
      ]
     },
     "execution_count": 41,
     "metadata": {},
     "output_type": "execute_result"
    }
   ],
   "source": []
  },
  {
   "cell_type": "code",
   "execution_count": 39,
   "id": "ec289272",
   "metadata": {},
   "outputs": [
    {
     "data": {
      "text/html": [
       "<div>\n",
       "<style scoped>\n",
       "    .dataframe tbody tr th:only-of-type {\n",
       "        vertical-align: middle;\n",
       "    }\n",
       "\n",
       "    .dataframe tbody tr th {\n",
       "        vertical-align: top;\n",
       "    }\n",
       "\n",
       "    .dataframe thead th {\n",
       "        text-align: right;\n",
       "    }\n",
       "</style>\n",
       "<table border=\"1\" class=\"dataframe\">\n",
       "  <thead>\n",
       "    <tr style=\"text-align: right;\">\n",
       "      <th></th>\n",
       "      <th></th>\n",
       "      <th>y</th>\n",
       "    </tr>\n",
       "    <tr>\n",
       "      <th>unique_id</th>\n",
       "      <th>ds</th>\n",
       "      <th></th>\n",
       "    </tr>\n",
       "  </thead>\n",
       "  <tbody>\n",
       "    <tr>\n",
       "      <th rowspan=\"5\" valign=\"top\">HUFL</th>\n",
       "      <th>2016-07-01 00:00:00</th>\n",
       "      <td>-0.041413</td>\n",
       "    </tr>\n",
       "    <tr>\n",
       "      <th>2016-07-01 00:15:00</th>\n",
       "      <td>-0.185467</td>\n",
       "    </tr>\n",
       "    <tr>\n",
       "      <th>2016-07-01 00:30:00</th>\n",
       "      <td>-0.257495</td>\n",
       "    </tr>\n",
       "    <tr>\n",
       "      <th>2016-07-01 00:45:00</th>\n",
       "      <td>-0.577510</td>\n",
       "    </tr>\n",
       "    <tr>\n",
       "      <th>2016-07-01 01:00:00</th>\n",
       "      <td>-0.385501</td>\n",
       "    </tr>\n",
       "    <tr>\n",
       "      <th>...</th>\n",
       "      <th>...</th>\n",
       "      <td>...</td>\n",
       "    </tr>\n",
       "    <tr>\n",
       "      <th rowspan=\"5\" valign=\"top\">OT</th>\n",
       "      <th>2018-02-20 22:45:00</th>\n",
       "      <td>-1.581325</td>\n",
       "    </tr>\n",
       "    <tr>\n",
       "      <th>2018-02-20 23:00:00</th>\n",
       "      <td>-1.581325</td>\n",
       "    </tr>\n",
       "    <tr>\n",
       "      <th>2018-02-20 23:15:00</th>\n",
       "      <td>-1.581325</td>\n",
       "    </tr>\n",
       "    <tr>\n",
       "      <th>2018-02-20 23:30:00</th>\n",
       "      <td>-1.562328</td>\n",
       "    </tr>\n",
       "    <tr>\n",
       "      <th>2018-02-20 23:45:00</th>\n",
       "      <td>-1.562328</td>\n",
       "    </tr>\n",
       "  </tbody>\n",
       "</table>\n",
       "<p>403200 rows × 1 columns</p>\n",
       "</div>"
      ],
      "text/plain": [
       "                                      y\n",
       "unique_id ds                           \n",
       "HUFL      2016-07-01 00:00:00 -0.041413\n",
       "          2016-07-01 00:15:00 -0.185467\n",
       "          2016-07-01 00:30:00 -0.257495\n",
       "          2016-07-01 00:45:00 -0.577510\n",
       "          2016-07-01 01:00:00 -0.385501\n",
       "...                                 ...\n",
       "OT        2018-02-20 22:45:00 -1.581325\n",
       "          2018-02-20 23:00:00 -1.581325\n",
       "          2018-02-20 23:15:00 -1.581325\n",
       "          2018-02-20 23:30:00 -1.562328\n",
       "          2018-02-20 23:45:00 -1.562328\n",
       "\n",
       "[403200 rows x 1 columns]"
      ]
     },
     "execution_count": 39,
     "metadata": {},
     "output_type": "execute_result"
    }
   ],
   "source": [
    "Y_df"
   ]
  },
  {
   "cell_type": "code",
   "execution_count": 11,
   "id": "ae5fa070",
   "metadata": {},
   "outputs": [],
   "source": [
    "# from neuralforecast import TimeSeriesDataset\n",
    "\n",
    "from neuralforecast.tsdataset import TimeSeriesDataset"
   ]
  },
  {
   "cell_type": "code",
   "execution_count": 24,
   "id": "7b1f1d33",
   "metadata": {},
   "outputs": [],
   "source": [
    "ds, uids, last_dates, ds_sort  = TimeSeriesDataset.from_df(Y_df)"
   ]
  },
  {
   "cell_type": "code",
   "execution_count": 32,
   "id": "b7ecb40f",
   "metadata": {},
   "outputs": [
    {
     "data": {
      "text/plain": [
       "torch.Size([2, 57600])"
      ]
     },
     "execution_count": 32,
     "metadata": {},
     "output_type": "execute_result"
    }
   ],
   "source": [
    "ds[0]['temporal']"
   ]
  },
  {
   "cell_type": "code",
   "execution_count": 33,
   "id": "cb21fa0d",
   "metadata": {},
   "outputs": [
    {
     "data": {
      "text/plain": [
       "7"
      ]
     },
     "execution_count": 33,
     "metadata": {},
     "output_type": "execute_result"
    }
   ],
   "source": [
    "len(ds)"
   ]
  },
  {
   "cell_type": "code",
   "execution_count": null,
   "id": "800e51af",
   "metadata": {},
   "outputs": [],
   "source": []
  }
 ],
 "metadata": {
  "kernelspec": {
   "display_name": "Python 3 (ipykernel)",
   "language": "python",
   "name": "python3"
  },
  "language_info": {
   "codemirror_mode": {
    "name": "ipython",
    "version": 3
   },
   "file_extension": ".py",
   "mimetype": "text/x-python",
   "name": "python",
   "nbconvert_exporter": "python",
   "pygments_lexer": "ipython3",
   "version": "3.10.14"
  }
 },
 "nbformat": 4,
 "nbformat_minor": 5
}
